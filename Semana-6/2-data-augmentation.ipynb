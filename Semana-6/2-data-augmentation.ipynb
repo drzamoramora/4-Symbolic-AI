{
 "cells": [
  {
   "cell_type": "code",
   "execution_count": null,
   "id": "54072823",
   "metadata": {},
   "outputs": [],
   "source": [
    "import os\n",
    "import pandas as pd\n",
    "import numpy as np\n",
    "import cv2\n",
    "import math\n",
    "\n",
    "import matplotlib.pyplot as plt"
   ]
  },
  {
   "cell_type": "markdown",
   "id": "0c379b2d",
   "metadata": {},
   "source": [
    "## Leer csv"
   ]
  },
  {
   "cell_type": "code",
   "execution_count": null,
   "id": "fdc3ffae",
   "metadata": {},
   "outputs": [],
   "source": [
    "def img_manivelas(datadir, df):\n",
    "    image_path = []\n",
    "    manivela = []\n",
    "    for i in range(1,len(data)):\n",
    "        indexed_data = data.iloc[i]\n",
    "        centro, izq, der = indexed_data[0], indexed_data[1], indexed_data[2]\n",
    "        \n",
    "        # centro\n",
    "        image_path.append(os.path.join(datadir, centro.strip()))\n",
    "        manivela.append(float(indexed_data[3]))\n",
    "        \n",
    "        # izquierda\n",
    "        image_path.append(os.path.join(datadir, izq.strip()))\n",
    "        manivela.append(float(indexed_data[3])+0.15)\n",
    "        \n",
    "        # derecha\n",
    "        image_path.append(os.path.join(datadir, der.strip()))\n",
    "        manivela.append(float(indexed_data[3])-0.15)\n",
    "    \n",
    "    image_paths = np.asarray(image_path)\n",
    "    manivelas = np.asarray(manivela)\n",
    "    return image_paths, manivelas\n",
    "\n",
    "directorio = \"C:\\\\Users\\\\XPC\\\\Desktop\\\\sdc\\\\\"\n",
    "\n",
    "# primera carga de datos del csv\n",
    "columnas = [\"centro\",\"izquierda\",\"derecha\",\"manivela\",\"potencia\",\"reversa\",\"velocidad\"]\n",
    "data = pd.read_csv(directorio + \"\\\\driving_log_limpio.csv\", names = columnas)\n",
    "\n",
    "# dos arreglos, uno con todas las rutas de los volantes,\n",
    "# el segundo con todos los angulos\n",
    "image_paths, valores_manivelas = img_manivelas(directorio + 'IMG', data)\n",
    "\n",
    "# convertir esto en un pandas DF\n",
    "imagenes = pd.DataFrame({'path': image_paths, 'manivela': valores_manivelas})\n",
    "\n",
    "print(\"total datos:\", len(imagenes))\n",
    "\n",
    "imagenes.head()"
   ]
  },
  {
   "cell_type": "markdown",
   "id": "e07932ae",
   "metadata": {},
   "source": [
    "## Cargar Imagenes y Aug con random flip"
   ]
  },
  {
   "cell_type": "code",
   "execution_count": null,
   "id": "2606ecec",
   "metadata": {},
   "outputs": [],
   "source": [
    "def img_preprocess(img):\n",
    "    img = img[60:135,:,:]\n",
    "    img = cv2.cvtColor(img, cv2.COLOR_RGB2YUV) #cv2.COLOR_RGB2YUV\n",
    "    img = cv2.GaussianBlur(img,  (3, 3), 0)\n",
    "    img = cv2.resize(img, (200, 66))\n",
    "    #img = img/255\n",
    "    return img\n",
    "\n",
    "# este metodo carga las imagenes en un tensor.\n",
    "# tambien selecciona un conjunto de imagenes, le hace un horizontal flip y las agrega al tensor.\n",
    "def cargar_imagenes(sample_size, df):\n",
    "    \n",
    "    tensor = []\n",
    "    \n",
    "    # clonamos el df\n",
    "    temp = df.copy()\n",
    "    #temp = temp[temp[\"manivela\"] != 0]\n",
    "    \n",
    "    # sacamos la muestra a modificar\n",
    "    sample = temp.sample(frac=sample_size)\n",
    "    \n",
    "    # cambiar la direccion del viraje de la manivela en la muestra\n",
    "    sample[\"manivela\"] = [-1 * x for x in sample[\"manivela\"]]\n",
    "    \n",
    "    # vamos a cargar las imagenes de temp en el tensor.\n",
    "    temp_path = temp[\"path\"]\n",
    "    for path in temp_path:\n",
    "        # se carga la imagen\n",
    "        img_ = cv2.imread(path)\n",
    "        # transformar la imagen\n",
    "        img_ = img_preprocess(img_)\n",
    "        # se agrega al tensor\n",
    "        tensor.append(img_)\n",
    "        \n",
    "    # vamos a hacer un flip de los samples y los agregamos al tensor\n",
    "    sample_path = sample[\"path\"]\n",
    "    for path in sample_path:\n",
    "        # se carga la imagen\n",
    "        img_ = cv2.imread(path)\n",
    "        # flip\n",
    "        img_ = cv2.flip(img_, 1)\n",
    "        # transformar la imagen\n",
    "        img_ = img_preprocess(img_)\n",
    "        # se agrega al tensor\n",
    "        tensor.append(img_)\n",
    "    \n",
    "    y_labels = temp[\"manivela\"].to_list() + sample[\"manivela\"].to_list() \n",
    "    \n",
    "    return np.array(tensor), y_labels\n",
    "    \n",
    "X, y = cargar_imagenes(0.2, imagenes)\n",
    "\n",
    "print(X.shape)\n",
    "# imagenes quedan con tamano: (66, 200, 3)\n",
    "\n",
    "print(\"nuevo total datos:\", len(X))"
   ]
  },
  {
   "cell_type": "code",
   "execution_count": null,
   "id": "f456be2e",
   "metadata": {},
   "outputs": [],
   "source": [
    "y = [round(i, 2) for i in y]"
   ]
  },
  {
   "cell_type": "code",
   "execution_count": null,
   "id": "fe628ea1",
   "metadata": {},
   "outputs": [],
   "source": [
    "plt.hist(y, 30)"
   ]
  },
  {
   "cell_type": "code",
   "execution_count": null,
   "id": "1ae43774",
   "metadata": {},
   "outputs": [],
   "source": [
    "plt.figure(figsize=(20,20))\n",
    "\n",
    "plt.subplot(1,2,1)\n",
    "plt.imshow(cv2.imread(imagenes[\"path\"][13]))\n",
    "plt.title(imagenes[\"manivela\"][13])\n",
    "\n",
    "plt.subplot(1,2,2)\n",
    "plt.imshow(img_preprocess(cv2.imread(imagenes[\"path\"][13])), cmap='Greys')\n",
    "plt.title(imagenes[\"manivela\"][13])"
   ]
  },
  {
   "cell_type": "markdown",
   "id": "cf9a44c1",
   "metadata": {},
   "source": [
    "## Train - Test Split"
   ]
  },
  {
   "cell_type": "code",
   "execution_count": null,
   "id": "364e4c68",
   "metadata": {},
   "outputs": [],
   "source": [
    "from sklearn.model_selection import train_test_split"
   ]
  },
  {
   "cell_type": "code",
   "execution_count": null,
   "id": "98ed7bf7",
   "metadata": {},
   "outputs": [],
   "source": [
    "X_train, X_test, y_train, y_test = train_test_split(X, y, test_size=0.20, random_state=34)\n",
    "print(\"Tamano train\", len(X_train))\n",
    "print(\"Tamano test\", len(X_test))\n",
    "\n",
    "#X_train=np.reshape(X_train,(X_train.shape[0], X_train.shape[1],X_train.shape[2],1))\n",
    "#X_test=np.reshape(X_test,(X_test.shape[0], X_test.shape[1],X_test.shape[2],1))\n",
    "\n",
    "print(X_train.shape)"
   ]
  },
  {
   "cell_type": "markdown",
   "id": "e8a46bc2",
   "metadata": {},
   "source": [
    "## Modelo ML - Convolucional"
   ]
  },
  {
   "cell_type": "code",
   "execution_count": null,
   "id": "faab3f2e",
   "metadata": {},
   "outputs": [],
   "source": [
    "import tensorflow as tf\n",
    "from tensorflow.keras.optimizers import Adam\n",
    "from tensorflow.keras.optimizers import RMSprop\n",
    "from tensorflow.keras.optimizers import SGD"
   ]
  },
  {
   "cell_type": "code",
   "execution_count": null,
   "id": "31afdcdb",
   "metadata": {},
   "outputs": [],
   "source": [
    "activation = 'relu'\n",
    "reg = 'l2'\n",
    "\n",
    "model = tf.keras.models.Sequential([\n",
    "  # ===============================\n",
    "  tf.keras.layers.Conv2D(24, (5,5), strides=(2,2), activation=activation,  kernel_regularizer=reg, input_shape=(66, 200, 3)),\n",
    "  tf.keras.layers.Dropout(0.5),\n",
    "  tf.keras.layers.Conv2D(36, (5,5), strides=(2,2), activation=activation,  kernel_regularizer=reg),\n",
    "  tf.keras.layers.Conv2D(48, (5,5), strides=(2,2), activation=activation,  kernel_regularizer=reg),\n",
    "  tf.keras.layers.Dropout(0.5),\n",
    "  tf.keras.layers.Conv2D(64, (3,3), strides=(1,1), activation=activation,  kernel_regularizer=reg),\n",
    "  tf.keras.layers.Conv2D(64, (3,3), strides=(1,1), activation=activation,  kernel_regularizer=reg),\n",
    "  tf.keras.layers.Dropout(0.5),\n",
    "  # ===============================\n",
    "  tf.keras.layers.Flatten(),\n",
    "  tf.keras.layers.Dense(100, activation=activation,  kernel_regularizer=reg),\n",
    "  tf.keras.layers.Dropout(0.5),\n",
    "  tf.keras.layers.Dense(50, activation=activation,  kernel_regularizer=reg),\n",
    "  tf.keras.layers.Dropout(0.5),\n",
    "  tf.keras.layers.Dense(10, activation=activation,  kernel_regularizer=reg),\n",
    "  tf.keras.layers.Dense(1)\n",
    "])\n",
    "\n",
    "#model.build((66,200,3))\n",
    "model.summary()"
   ]
  },
  {
   "cell_type": "code",
   "execution_count": null,
   "id": "7b2db19f",
   "metadata": {},
   "outputs": [],
   "source": [
    "# iniciar entrenamiento\n",
    "BATCH_SIZE = 64\n",
    "TRAINING_SIZE = len(X_train)\n",
    "VALIDATION_SIZE = len(X_test)\n",
    "\n",
    "optim = Adam(\n",
    "    learning_rate=1e-3,\n",
    "    beta_1=0.9,\n",
    "    beta_2=0.999,\n",
    "    epsilon=1e-07,\n",
    "    amsgrad=False\n",
    ")\n",
    "\n",
    "# aplical algoritmo de optimizacion.\n",
    "model.compile(optimizer=optim, loss='mse')\n",
    "\n",
    "y_train_ = np.array(y_train).reshape(-1,1)\n",
    "y_test_ =  np.array(y_test).reshape(-1,1)\n",
    "\n",
    "history = model.fit(\n",
    "    X_train, \n",
    "    y_train_, \n",
    "    epochs=50, \n",
    "    batch_size=BATCH_SIZE,\n",
    "    steps_per_epoch = int(TRAINING_SIZE / BATCH_SIZE),\n",
    "    validation_steps= int(VALIDATION_SIZE / BATCH_SIZE),\n",
    "    shuffle=1,\n",
    "    validation_data=(X_test, y_test_),\n",
    "    verbose=1)"
   ]
  },
  {
   "cell_type": "code",
   "execution_count": null,
   "id": "596f8ade",
   "metadata": {},
   "outputs": [],
   "source": [
    "plt.plot(history.history['loss'])\n",
    "plt.plot(history.history['val_loss'])\n",
    "plt.title('model loss')\n",
    "plt.ylabel('loss')\n",
    "plt.xlabel('epoch')\n",
    "plt.legend(['train', 'test'], loc='upper left')\n",
    "plt.show()"
   ]
  },
  {
   "cell_type": "code",
   "execution_count": null,
   "id": "5f2c807d",
   "metadata": {},
   "outputs": [],
   "source": [
    "model.save('model.h5')"
   ]
  }
 ],
 "metadata": {
  "kernelspec": {
   "display_name": "Python 3 (ipykernel)",
   "language": "python",
   "name": "python3"
  },
  "language_info": {
   "codemirror_mode": {
    "name": "ipython",
    "version": 3
   },
   "file_extension": ".py",
   "mimetype": "text/x-python",
   "name": "python",
   "nbconvert_exporter": "python",
   "pygments_lexer": "ipython3",
   "version": "3.9.10"
  }
 },
 "nbformat": 4,
 "nbformat_minor": 5
}
