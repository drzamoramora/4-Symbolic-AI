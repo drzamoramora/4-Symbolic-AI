{
 "cells": [
  {
   "cell_type": "code",
   "execution_count": null,
   "metadata": {},
   "outputs": [],
   "source": [
    "import os\n",
    "import pandas as pd\n",
    "import numpy as np\n",
    "import random\n",
    "import ntpath\n",
    "import matplotlib.pyplot as plt\n",
    "from sklearn.utils import shuffle"
   ]
  },
  {
   "cell_type": "markdown",
   "metadata": {},
   "source": [
    "## Cargar los datos generados por el simulador de Udacity"
   ]
  },
  {
   "cell_type": "code",
   "execution_count": null,
   "metadata": {},
   "outputs": [],
   "source": [
    "directorio = \"C:\\\\Users\\\\XPC\\\\Desktop\\\\sdc\\\\\"\n",
    "columnas = [\"centro\",\"izquierda\",\"derecha\",\"manivela\",\"potencia\",\"reversa\",\"velocidad\"]\n",
    "data = pd.read_csv(directorio + \"\\\\driving_log.csv\", names = columnas)\n",
    "data.head()"
   ]
  },
  {
   "cell_type": "markdown",
   "metadata": {},
   "source": [
    "## Limipiar las rutas del Dataframe"
   ]
  },
  {
   "cell_type": "code",
   "execution_count": null,
   "metadata": {},
   "outputs": [],
   "source": [
    "# limpiar las rutas en el dataframe\n",
    "def path_tail(path):\n",
    "    _, tail = ntpath.split(path)\n",
    "    return tail\n",
    "\n",
    "data[\"centro\"] = data[\"centro\"].apply(path_tail)\n",
    "data[\"izquierda\"] = data[\"izquierda\"].apply(path_tail)\n",
    "data[\"derecha\"] = data[\"derecha\"].apply(path_tail)\n",
    "data.head()"
   ]
  },
  {
   "cell_type": "markdown",
   "metadata": {},
   "source": [
    "## El problema del Imbalance"
   ]
  },
  {
   "cell_type": "code",
   "execution_count": null,
   "metadata": {},
   "outputs": [],
   "source": [
    "# el problema del imbalance en manivela.\n",
    "muestras_por_bin = 200\n",
    "numero_bins = 30\n",
    "hist, bins = np.histogram(data[\"manivela\"], numero_bins)\n",
    "centrar = (bins[:-1] + bins[1:]) * 0.5\n",
    "plt.bar(centrar, hist, width=0.05)\n",
    "plt.axhline(y=300, color='r', linestyle='-')\n",
    "\n",
    "# existen demasiados datos que apuntan en el centro (osea el carro siempre va recto)"
   ]
  },
  {
   "cell_type": "code",
   "execution_count": null,
   "metadata": {},
   "outputs": [],
   "source": [
    "# la estrategia es eliminar una cantidad de datos tal que permita \n",
    "# tener una cantidad balanceada de cada elemento de la distribucion\n",
    "\n",
    "# la linea roja sugiere conservar 200 de los datos del bin mas grande de forma aleatoria.\n",
    "\n",
    "print(\"largo dataset:\", len(data))\n",
    "remover = []   \n",
    "for j in range(numero_bins):\n",
    "    lista = []\n",
    "    for i in range(len(data[\"manivela\"])):\n",
    "        if(data[\"manivela\"][i] >= bins[j] and data[\"manivela\"][i] <= bins[j+1]):\n",
    "            lista.append(i) #indice\n",
    "    lista = shuffle(lista)\n",
    "    lista = lista[muestras_por_bin:]\n",
    "    remover.extend(lista)\n",
    "        \n",
    "print(\"Remover:\", len(remover))\n",
    "data.drop(data.index[remover], inplace=True)\n",
    "print(\"nuevo largo dataset:\", len(data))"
   ]
  },
  {
   "cell_type": "code",
   "execution_count": null,
   "metadata": {},
   "outputs": [],
   "source": [
    "# revisamos la nueva distribucion despues de remover los datos innecesarios.\n",
    "\n",
    "hist, _ = np.histogram(data[\"manivela\"], numero_bins)\n",
    "plt.bar(centrar, hist, width=0.05)"
   ]
  },
  {
   "cell_type": "code",
   "execution_count": null,
   "metadata": {},
   "outputs": [],
   "source": [
    "# salvamos el nuevo dataset de entrenamiento\n",
    "data.to_csv(directorio + \"\\\\driving_log_limpio.csv\", index=False)"
   ]
  }
 ],
 "metadata": {
  "kernelspec": {
   "display_name": "Python 3 (ipykernel)",
   "language": "python",
   "name": "python3"
  },
  "language_info": {
   "codemirror_mode": {
    "name": "ipython",
    "version": 3
   },
   "file_extension": ".py",
   "mimetype": "text/x-python",
   "name": "python",
   "nbconvert_exporter": "python",
   "pygments_lexer": "ipython3",
   "version": "3.9.10"
  }
 },
 "nbformat": 4,
 "nbformat_minor": 4
}
