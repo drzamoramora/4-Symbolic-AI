{
 "cells": [
  {
   "cell_type": "markdown",
   "id": "35b0fb21",
   "metadata": {},
   "source": [
    "# Busqueda Adversaria\n",
    "\n",
    "**En el que examinamos los problemas que surgen cuando tratamos de planificar el futuro en un mundo donde otros agentes están planeando en nuestra contra**\n",
    "\n",
    "Para este tipo de problemas tenemos los siguientes elementos:\n",
    "\n",
    "- **S0**: el estado inicial, que especifica cómo se configura el juego al principio.\n",
    "- **JUGADOR(s)**: Define qué jugador tiene la jugada en un estado.\n",
    "- **ACCIONES(s)**: Devuelve el conjunto de jugadas legales en un estado.\n",
    "- **RESULTADO(s, a)**: El modelo de transición, que define el resultado de un movimiento.\n",
    "- **PRUEBA-TERMINAL(s)**: Una prueba terminal, que es verdadera cuando el juego termina y falsa en caso contrario. Los estados en los que ha terminado el juego se denominan estados terminales.\n",
    "- **UTILIDAD(s, p)**: Una función de utilidad (también llamada función objetivo o función de pago), define el valor numérico final para un juego que termina en el estado terminal s para un jugador p. En ajedrez, el resultado es una victoria, una derrota o un empate, con valores +1, 0 o 1/2. Algunos juegos tienen una variedad más amplia de posibles resultados; los pagos en backgammon van de 0 a +192.\n",
    "\n",
    "Para tic-tac-toe, el árbol del juego es relativamente pequeño: menos de 9! = 362, 880 nodos terminales. Pero para el ajedrez hay más de $10^{40}$ nodos, por lo que es mejor pensar en el árbol del juego como una construcción teórica que no podemos realizar en el mundo físico.\n",
    "\n",
    "**Tic-Tac-Toe**\n",
    "\n",
    "<img src=\"img/s9.png\" />\n",
    "\n",
    "Un árbol de juego (parcial) para el juego de tres en raya. El nodo superior es el estado inicial y MAX se mueve primero, colocando una X en un cuadrado vacío. Mostramos parte del árbol, dando movimientos alternados por MIN (O) y MAX (X), hasta llegar a estados terminales, a los que se les pueden asignar utilidades según las reglas del juego.\n",
    "\n",
    "Algunas estrategias:\n",
    "\n",
    "- Minmax\n",
    "- Alpha-Beta Prunning\n",
    "- Forward Prunning\n",
    "- Lookup tables (Ajedrez)\n",
    "- Reglas (estrategias de contingencia)\n",
    "- Probabilidades (juegos de cartas)"
   ]
  }
 ],
 "metadata": {
  "kernelspec": {
   "display_name": "Python 3 (ipykernel)",
   "language": "python",
   "name": "python3"
  },
  "language_info": {
   "codemirror_mode": {
    "name": "ipython",
    "version": 3
   },
   "file_extension": ".py",
   "mimetype": "text/x-python",
   "name": "python",
   "nbconvert_exporter": "python",
   "pygments_lexer": "ipython3",
   "version": "3.7.9"
  }
 },
 "nbformat": 4,
 "nbformat_minor": 5
}
