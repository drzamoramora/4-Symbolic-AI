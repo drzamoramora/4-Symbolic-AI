{
 "cells": [
  {
   "cell_type": "code",
   "execution_count": null,
   "id": "79fa52cd",
   "metadata": {},
   "outputs": [],
   "source": [
    "import random\n",
    "import itertools\n",
    "from Levenshtein import distance"
   ]
  },
  {
   "cell_type": "markdown",
   "id": "97f7662b",
   "metadata": {},
   "source": [
    "In information theory, linguistics, and computer science, the Levenshtein distance is a string metric for measuring the difference between two sequences. Informally, the Levenshtein distance between two words is the minimum number of single-character edits required to change one word into the other."
   ]
  },
  {
   "cell_type": "code",
   "execution_count": null,
   "id": "e81df44f",
   "metadata": {},
   "outputs": [],
   "source": [
    "target_word = \"hola mundo\"\n",
    "target_size = len(target_word)\n",
    "alphabet = \"abcdefghijklmnopqrstuvwxyz \""
   ]
  },
  {
   "cell_type": "code",
   "execution_count": null,
   "id": "8c35f7d6",
   "metadata": {},
   "outputs": [],
   "source": [
    "# create random element\n",
    "def random_text(alphabet,size):\n",
    "    # TODO: improve this function to reduce execution time (and complexity!)\n",
    "    # TODO: fix this with dynamic programming!\n",
    "    return \"\".join(random.choice(alphabet) for _ in range(size))"
   ]
  },
  {
   "cell_type": "code",
   "execution_count": null,
   "id": "e82d6561",
   "metadata": {},
   "outputs": [],
   "source": [
    "# random_text is the random component or generator.\n",
    "guess = random_text(alphabet,target_size)\n",
    "# distance is the scoring function\n",
    "score = distance(guess,target_word)\n",
    "print(\"Initial State:\", guess, \"score:\",score)"
   ]
  },
  {
   "cell_type": "code",
   "execution_count": null,
   "id": "fc0d4662",
   "metadata": {},
   "outputs": [],
   "source": [
    "for i in itertools.count(0):\n",
    "    \n",
    "    if guess == target_word:\n",
    "        break;\n",
    "    \n",
    "   \n",
    "    # Simulated Annealing\n",
    "    new_guess = random_text(alphabet,target_size)\n",
    "    new_score = distance(guess,target_word)\n",
    "    \n",
    "    if i % 1000:\n",
    "        print(\"Current State (best for the moment):\", new_guess, \"score:\", new_score)\n",
    "    \n",
    "    if(new_score > score):\n",
    "        guess = new_guess\n",
    "        score = new_score\n",
    "\n",
    "print(\"Final State:\", guess, \"score:\", score)"
   ]
  },
  {
   "cell_type": "code",
   "execution_count": null,
   "id": "0407000f",
   "metadata": {},
   "outputs": [],
   "source": []
  },
  {
   "cell_type": "code",
   "execution_count": null,
   "id": "131b3627",
   "metadata": {},
   "outputs": [],
   "source": []
  }
 ],
 "metadata": {
  "kernelspec": {
   "display_name": "Python 3 (ipykernel)",
   "language": "python",
   "name": "python3"
  },
  "language_info": {
   "codemirror_mode": {
    "name": "ipython",
    "version": 3
   },
   "file_extension": ".py",
   "mimetype": "text/x-python",
   "name": "python",
   "nbconvert_exporter": "python",
   "pygments_lexer": "ipython3",
   "version": "3.7.9"
  }
 },
 "nbformat": 4,
 "nbformat_minor": 5
}
