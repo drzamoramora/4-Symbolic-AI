{
 "cells": [
  {
   "cell_type": "markdown",
   "id": "b785c8df",
   "metadata": {},
   "source": [
    "# 4 en Linea (Connect 4)\n",
    "\n",
    "**OBJETIVO**:\n",
    "\n",
    "Ser el primer jugador en conectar 4 discos del mismo color en una fila (ya sea vertical, horizontal o diagonal)\n",
    "\n",
    "**CÓMO JUGAR**:\n",
    "\n",
    "Primero, decide quién va primero y qué color tendrá cada jugador.\n",
    "Los jugadores deben alternar turnos y solo se puede dejar caer un disco en cada turno.\n",
    "En tu turno, deja caer uno de tus discos de colores desde la parte superior en cualquiera de las siete ranuras.\n",
    "El juego termina cuando hay un 4 en raya o un punto muerto.\n",
    "El titular del juego anterior va segundo en el próximo juego.\n",
    "\n",
    "<img src=\"img/g1.gif\" />"
   ]
  },
  {
   "cell_type": "markdown",
   "id": "68d944aa",
   "metadata": {},
   "source": [
    "## Diseno de la Solucion\n",
    "\n",
    "Debe pensar este juego como un juego con busqueda adversaria, esto quiere decir que el agente esta al tanto de los estados futuros del jugador como de los posibles estados futuros del agente. El agente usa esta informacion para tomar la siguientes desicion.\n",
    "\n",
    "Debe disenar una solucion donde el agente mantiene los arboles de decision de ambos (jugador y agente) y los reduce (descarta) las ramas que no se jugaron y las que no se pueden jugar (si asi pasara). \n",
    "\n",
    "Deben resolver el problema usando estrategias Hill-Climb o Simulated Annaeling\n",
    "\n",
    "- El agente prefiere empatar a perder\n",
    "- El agente prefiere ganar a empatar.\n",
    "- EL agente puede bloquear al jugador como parte de su estrategia para ganar.\n",
    "- EL agente debe bloquear naturalmente si el jugador va a ganar en la proxima movida."
   ]
  },
  {
   "cell_type": "code",
   "execution_count": 1,
   "id": "d2172f1a",
   "metadata": {},
   "outputs": [],
   "source": [
    "import matplotlib.pyplot as plt\n",
    "import numpy as np"
   ]
  },
  {
   "cell_type": "code",
   "execution_count": 2,
   "id": "f8e89707",
   "metadata": {},
   "outputs": [],
   "source": [
    "def drop_piece(board, column):\n",
    "    row = board.shape[0] - 1\n",
    "    dropped = False\n",
    "    while (row >= 0) & (not dropped):\n",
    "        if board[row, column] == 0:\n",
    "            board[row, column] = player_number\n",
    "            dropped = True\n",
    "        else:\n",
    "            row = row - 1\n",
    "    return board, row, dropped\n",
    "\n",
    "def four_in_a_row(board, row, column):\n",
    "    \n",
    "    # Get a list of horizontal, vertical, and diagonal lines involving the piece that was just added\n",
    "    lines = []\n",
    "\n",
    "    # Horizontal & vertical\n",
    "    lines.append(board[:, column])\n",
    "    lines.append(board[row])\n",
    "    \n",
    "    # Diagonal\n",
    "    w = board.shape[1] - 1\n",
    "    h = board.shape[0] - 1        \n",
    "    distance_to_left = min([row, column]) * -1\n",
    "    distance_to_right = min([h - row, w - column]) + 1    \n",
    "    lines.append([board[row + n, column + n] for n in range(distance_to_left, distance_to_right)])    \n",
    "    distance_to_left = min([row, w - column]) * -1\n",
    "    distance_to_right = min([h - row, column]) + 1\n",
    "    lines.append([board[row + n, column - n] for n in range(distance_to_left, distance_to_right)])\n",
    "\n",
    "    # Split each list into chunks of four and check each to see if all values are a) the same and b) not zero\n",
    "    fours = []\n",
    "    for line in lines:\n",
    "        for n in range(len(line) - 3):\n",
    "            four = line[n:n+4]\n",
    "            if (four[0] == four).all() & (four[0] != 0):\n",
    "                return True\n",
    "    return False\n",
    "\n",
    "def show_board(board):\n",
    "    plt.imshow(board, vmin = 0, vmax = 2)\n",
    "    for i in range(board.shape[0]):\n",
    "        for j in range(board.shape[1]):\n",
    "            text = plt.gca().text(j, i, board[i, j],\n",
    "                           ha=\"center\", va=\"center\", color=\"w\")\n",
    "    plt.gca().set_yticks([])\n",
    "    plt.show()"
   ]
  },
  {
   "cell_type": "code",
   "execution_count": null,
   "id": "cb6f3c1b",
   "metadata": {},
   "outputs": [],
   "source": [
    "board = np.zeros((6, 7), dtype = int)\n",
    "playing = True\n",
    "player_number = 1    \n",
    "    \n",
    "while playing:\n",
    "    \n",
    "    show_board(board)\n",
    "    column = int(input('Player ' + str(player_number) + ', pick a column!\\n'))\n",
    "    board, row, dropped = drop_piece(board, column)\n",
    "    \n",
    "    if dropped:\n",
    "        if four_in_a_row(board, row, column):\n",
    "            playing = False\n",
    "            show_board(board)\n",
    "            print('Player ' + str(player_number) + ' wins!')        \n",
    "        elif not (board == 0).any():\n",
    "            playing = False\n",
    "            show_board(board)\n",
    "            print('Game over!')        \n",
    "        player_number = 2 if player_number == 1 else 1     \n",
    "    else:\n",
    "        print('Sorry, that column is full. Try again!')"
   ]
  }
 ],
 "metadata": {
  "kernelspec": {
   "display_name": "Python 3 (ipykernel)",
   "language": "python",
   "name": "python3"
  },
  "language_info": {
   "codemirror_mode": {
    "name": "ipython",
    "version": 3
   },
   "file_extension": ".py",
   "mimetype": "text/x-python",
   "name": "python",
   "nbconvert_exporter": "python",
   "pygments_lexer": "ipython3",
   "version": "3.7.9"
  }
 },
 "nbformat": 4,
 "nbformat_minor": 5
}
