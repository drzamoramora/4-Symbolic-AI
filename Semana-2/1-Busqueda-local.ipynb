{
 "cells": [
  {
   "cell_type": "markdown",
   "id": "b6289137",
   "metadata": {},
   "source": [
    "# Busqueda Local\n",
    "\n",
    "Los algoritmos de búsqueda local funcionan con un solo nodo actual (en lugar de varias rutas) y, por lo general, solo se mueven a los vecinos de ese nodo. Normalmente, las rutas seguidas por la búsqueda no se conservan. Aunque los algoritmos de búsqueda local no son sistemáticos, tienen dos ventajas clave: (1) utilizan muy poca memoria, generalmente una cantidad constante; y (2) a menudo pueden encontrar soluciones razonables en espacios de estado grandes o infinitos (continuos) para los cuales los algoritmos sistemáticos no son adecuados.\n",
    "\n",
    "**Los algoritmos de busqueda local resuelven problemas de optimizacion: tratan de buscar el mejor estado de acuerdo al objetivo**\n",
    "\n",
    "Algunos algoritmos:\n",
    "\n",
    "- Hill-climb Search\n",
    "- Simulated annealing\n",
    "- Algoritmos geneticos"
   ]
  },
  {
   "cell_type": "markdown",
   "id": "c9bbb5ee",
   "metadata": {},
   "source": [
    "## Hill-Climb Search\n",
    "\n",
    "Es simplemente un bucle que se mueve continuamente en la dirección del valor creciente, es decir, cuesta arriba. Termina cuando alcanza un \"pico\" donde ningún vecino tiene un valor más alto. El algoritmo no mantiene un árbol de búsqueda, por lo que la estructura de datos del nodo actual solo necesita registrar el estado y el valor de la función objetivo. La escalada no mira más allá de los vecinos inmediatos del estado actual. Esto se parece a tratar de encontrar la cima del monte Everest en medio de una espesa niebla mientras se sufre de amnesia.\n",
    "\n",
    "Hill Climb se puede pegar en:\n",
    "\n",
    "- Local Maxima\n",
    "- Secuencias de Local Maxima \n",
    "- Areas planas\n",
    "\n",
    "Algoritmo Simplificado\n",
    "\n",
    "HillClimb(x):\n",
    "-    1. Genere posibles soluciones\n",
    "-    2. pruebe a ver si se encuentra una solucion (o la mejor solucion posible)\n",
    "-    3. Si hay una solucion, regrese al paso 1.\n",
    "\n",
    "<img src=\"img/s1.png\" />\n",
    "\n",
    "El algoritmo de búsqueda hill-climbing, que es la técnica de búsqueda local más básica. En cada paso, el nodo actual se reemplaza por el mejor vecino; en esta versión, eso significa el vecino con el VALOR más alto, pero si se usa una estimación de costo heurística h, encontraríamos al vecino con el h más bajo"
   ]
  },
  {
   "cell_type": "markdown",
   "id": "b2ac09d2",
   "metadata": {},
   "source": [
    "## Simulated Annealing\n",
    "\n",
    "Este algoritmos es una mezcla de HillClimb con caminata aleatoria.\n",
    "\n",
    "Para explicar el algoritmo, cambiamos nuestro punto de vista de subir colinas a descender en pendiente (es decir, minimizar el costo) e imaginamos la tarea de meter una pelota de ping-pong en la grieta más profunda de una superficie llena de baches. Si dejamos que la bola ruede, se detendrá en un mínimo local. Si sacudimos la superficie, podemos botar la pelota fuera del mínimo local. El truco consiste en agitar lo suficiente como para que la pelota rebote fuera de los mínimos locales, pero no lo suficiente como para sacarla del mínimo global.\n",
    "\n",
    "<img src=\"img/s2.png\" />\n",
    "\n",
    "El algoritmo es una versión de escalada estocástica en la que se permiten algunos movimientos cuesta abajo. Los movimientos cuesta abajo se aceptan fácilmente al principio del programa de recocido y luego con menos frecuencia a medida que pasa el tiempo. La entrada de programación determina el valor de la temperatura T en función del tiempo."
   ]
  },
  {
   "cell_type": "markdown",
   "id": "b2af997b",
   "metadata": {},
   "source": [
    "## Algoritmos Geneticos\n",
    "\n",
    "El algoritmo genético es un método para resolver problemas de optimización restringidos y no restringidos que se basa en la selección natural, el proceso que impulsa la evolución biológica. \n",
    "\n",
    "El algoritmo genético modifica repetidamente una población de soluciones individuales. En cada paso, el algoritmo genético selecciona individuos al azar de la población actual para que sean padres y los utiliza para producir los hijos de la próxima generación. \n",
    "\n",
    "Durante generaciones sucesivas, la población \"evoluciona\" hacia una solución óptima. Puede aplicar el algoritmo genético para resolver una variedad de problemas de optimización que no son adecuados para los algoritmos de optimización estándar, incluidos los problemas en los que la función objetivo es discontinua, no diferenciable, estocástica o altamente no lineal.\n",
    "\n",
    "<img src=\"img/s3.png\" />\n",
    "\n",
    "Reglas:\n",
    "\n",
    "- Las reglas de selección seleccionan a los individuos, llamados padres, que contribuyen a la población en la siguiente generación.\n",
    "- Las reglas de cruce combinan dos padres para formar hijos para la próxima generación.\n",
    "- Las reglas de mutación aplican cambios aleatorios a padres individuales para formar hijos.\n"
   ]
  }
 ],
 "metadata": {
  "kernelspec": {
   "display_name": "Python 3 (ipykernel)",
   "language": "python",
   "name": "python3"
  },
  "language_info": {
   "codemirror_mode": {
    "name": "ipython",
    "version": 3
   },
   "file_extension": ".py",
   "mimetype": "text/x-python",
   "name": "python",
   "nbconvert_exporter": "python",
   "pygments_lexer": "ipython3",
   "version": "3.7.9"
  }
 },
 "nbformat": 4,
 "nbformat_minor": 5
}
