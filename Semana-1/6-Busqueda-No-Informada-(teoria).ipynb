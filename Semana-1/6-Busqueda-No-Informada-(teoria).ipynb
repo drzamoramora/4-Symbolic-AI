{
 "cells": [
  {
   "cell_type": "markdown",
   "id": "975f1ba8",
   "metadata": {},
   "source": [
    "## Busqueda Ciega (No Informada)\n",
    "\n",
    "El término significa que *las estrategias no tienen información adicional sobre estados más allá de la proporcionada en la definición del problema*. Todo lo que pueden hacer es generar sucesores y distinguir un estado objetivo de un estado no objetivo. \n",
    "\n",
    "Todas las estrategias de búsqueda se distinguen por el orden en que se expanden los nodos. Las estrategias que saben si un estado no objetivo es *“más prometedor”* que otro se denominan búsqueda *informada o búsqueda heurística*."
   ]
  },
  {
   "cell_type": "markdown",
   "id": "07820c42",
   "metadata": {},
   "source": [
    "### Breadth-first search (BFS)\n",
    "\n",
    "Es una estrategia simple en la que primero se expande el nodo raíz, luego se expanden todos los sucesores del nodo raíz, luego sus sucesores, y así sucesivamente. En general, todos los nodos se expanden a una profundidad dada en el árbol de búsqueda antes de que se expanda cualquier nodo en el siguiente nivel.\n",
    "\n",
    "<img src=\"img/busq7.png\" />\n",
    "\n",
    "<img src=\"img/busq8.png\" />\n",
    "\n",
    "<img src=\"img/busq9.png\" />\n"
   ]
  },
  {
   "cell_type": "markdown",
   "id": "76f9f1e4",
   "metadata": {},
   "source": [
    "### Uniform-cost search (UCS)\n",
    "\n",
    "Cuando todos los costos de paso son iguales, BFS es óptimo porque siempre expande el\n",
    "nodo no expandido más superficial.\n",
    "\n",
    "En lugar de expandir el nodo menos profundo, la búsqueda de costo uniforme expande el nodo n con el costo de ruta más bajo g(n).\n",
    "\n",
    "<img src=\"img/busq10.png\" />\n",
    "\n",
    "El algoritmo utiliza una cola de prioridad y la adición de una verificación adicional en caso de que se descubra una ruta más corta hacia un estado fronterizo. La estructura de datos para la frontera debe admitir pruebas de membresía eficientes, por lo que debe combinar las capacidades de una cola de prioridad y una tabla hash.\n",
    "\n",
    "<img src=\"img/busq11.png\" />\n",
    "\n",
    "La búsqueda de costo uniforme no se preocupa por la cantidad de pasos que tiene una ruta, sino solo por su costo total.\n",
    "\n",
    "Cuando todos los costos de los pasos son iguales, la búsqueda de costo uniforme es similar a la búsqueda primero en amplitud, excepto que esta última se detiene tan pronto como genera un objetivo, mientras que la búsqueda de costo uniforme examina todos los nodos en la profundidad del objetivo para ver si hay uno tiene un costo menor; por lo tanto, la búsqueda de costo uniforme hace estrictamente más trabajo al expandir los nodos en la profundidad d innecesariamente."
   ]
  },
  {
   "cell_type": "markdown",
   "id": "e141607d",
   "metadata": {},
   "source": [
    "### Depth-first search (DFS)\n",
    "\n",
    "La DFS siempre expande el nodo más profundo en la frontera actual del árbol de búsqueda.\n",
    "\n",
    "<img src=\"img/busq12.png\" />\n",
    "\n",
    "Es común implementar la búsqueda primero en profundidad con una función recursiva que se llama a sí misma en cada uno de sus hijos por turno.\n",
    "\n",
    "DFS parece no tener una ventaja clara sobre la búsqueda en amplitud, entonces, ¿por qué lo incluimos? La razón es la complejidad del espacio. Para una búsqueda de gráfico, no hay ninguna ventaja, pero una búsqueda de árbol primero en profundidad necesita almacenar solo una ruta única desde la raíz hasta un nodo hoja, junto con los nodos hermanos restantes no expandidos para cada nodo en la ruta. Una vez que se ha expandido un nodo, se puede eliminar de la memoria tan pronto como se hayan explorado por completo todos sus descendientes."
   ]
  },
  {
   "cell_type": "markdown",
   "id": "3e0b67f5",
   "metadata": {},
   "source": [
    "### Depth-limited search (DLS)\n",
    "\n",
    "La vergonzosa falla de la DFS en espacios de estados infinitos se puede aliviar proporcionando búsqueda primero en profundidad con un límite de profundidad predeterminado L. Es decir, los nodos en la profundidad L se tratan como si no tuvieran sucesores. A veces, los límites de profundidad pueden basarse en el conocimiento del problema.\n",
    "\n",
    "<img src=\"img/busq13.png\" />"
   ]
  },
  {
   "cell_type": "markdown",
   "id": "6619c450",
   "metadata": {},
   "source": [
    "### Otros tipos de Busquedas de Profundidad\n",
    "\n",
    "#### Iterative deepening depth-first search\n",
    "\n",
    "es una estrategia general, a menudo utilizada en combinación con la búsqueda de árboles en profundidad, que encuentra el mejor límite de profundidad. Lo hace aumentando gradualmente el límite, primero 0, luego 1, luego 2, y así sucesivamente, hasta que se encuentra un objetivo.\n",
    "\n",
    "<img src=\"img/busq14.png\" />\n",
    "\n",
    "####  Bidirectional search\n",
    "\n",
    "La idea detrás de la búsqueda bidireccional es ejecutar dos búsquedas simultáneas, una hacia adelante desde el estado inicial y la otra hacia atrás desde el objetivo, con la esperanza de que las dos búsquedas se encuentren en el medio.\n",
    "\n",
    "La búsqueda bidireccional se implementa reemplazando la prueba del objetivo con una verificación para ver si las fronteras de las dos búsquedas se cruzan; si lo hacen, se ha encontrado una solución.\n",
    "\n",
    "<img src=\"img/busq15.png\" />"
   ]
  },
  {
   "attachments": {},
   "cell_type": "markdown",
   "id": "3212fb0c",
   "metadata": {},
   "source": [
    "### Comparacion de las estrategias no informadas\n",
    "\n",
    "Para las búsquedas en grafos, las principales diferencias son que la BFS es completa para espacios de estado finitos y que las complejidades de espacio y tiempo están limitadas por el tamaño del espacio de estado.\n",
    "\n",
    "<img src=\"img/busq16.png\" />"
   ]
  }
 ],
 "metadata": {
  "kernelspec": {
   "display_name": "Python 3 (ipykernel)",
   "language": "python",
   "name": "python3"
  },
  "language_info": {
   "codemirror_mode": {
    "name": "ipython",
    "version": 3
   },
   "file_extension": ".py",
   "mimetype": "text/x-python",
   "name": "python",
   "nbconvert_exporter": "python",
   "pygments_lexer": "ipython3",
   "version": "3.7.9"
  }
 },
 "nbformat": 4,
 "nbformat_minor": 5
}
