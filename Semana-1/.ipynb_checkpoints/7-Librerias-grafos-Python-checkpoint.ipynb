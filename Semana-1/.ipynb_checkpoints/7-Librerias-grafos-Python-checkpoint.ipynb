{
 "cells": [
  {
   "cell_type": "markdown",
   "id": "facc40dd",
   "metadata": {},
   "source": [
    "### Algunas librerias con algoritmos listos para usar:\n",
    "\n",
    "- NetworkX: https://networkx.org/documentation/stable/reference/algorithms/\n",
    "- igraph: https://igraph.org/python/tutorial/latest/\n",
    "- graph-tool: https://graph-tool.skewed.de/"
   ]
  },
  {
   "cell_type": "markdown",
   "id": "171019c1",
   "metadata": {},
   "source": [
    "## Ejemplo NetworkX\n",
    "\n",
    "mas ejemplos: https://networkx.org/documentation/stable/tutorial.html"
   ]
  },
  {
   "cell_type": "code",
   "execution_count": 4,
   "id": "8a9ddfce",
   "metadata": {},
   "outputs": [
    {
     "data": {
      "text/plain": [
       "{(1, 2): Text(1.5, 1.0, '0.5'),\n",
       " (1, 3): Text(1.0, 0.5, '9.8'),\n",
       " (1, 4): Text(1.5, 0.5, '1.5'),\n",
       " (2, 4): Text(2.0, 0.5, '0.6')}"
      ]
     },
     "execution_count": 4,
     "metadata": {},
     "output_type": "execute_result"
    },
    {
     "data": {
      "image/png": "[encoded data removed]",
      "text/plain": [
       "<Figure size 432x288 with 1 Axes>"
      ]
     },
     "metadata": {},
     "output_type": "display_data"
    }
   ],
   "source": [
    "#!pip install algorithmx\n",
    "#!pip install networkx\n",
    "\n",
    "import networkx as nx\n",
    "import matplotlib.pyplot as plt\n",
    "\n",
    "# Normal\n",
    "G=nx.Graph() \n",
    "\n",
    "# Directed\n",
    "# G = nx.DiGraph() # un comment to test!\n",
    "\n",
    "G.add_node(1,pos=(1,1))\n",
    "G.add_node(2,pos=(2,1))\n",
    "G.add_node(3,pos=(1,0))\n",
    "G.add_node(4,pos=(2,0))\n",
    "\n",
    "\n",
    "G.add_edge(1,2,weight=0.5)\n",
    "G.add_edge(1,3,weight=9.8)\n",
    "G.add_edge(1,4,weight=1.5)\n",
    "G.add_edge(2,4,weight=0.6)\n",
    "\n",
    "pos=nx.get_node_attributes(G,'pos')\n",
    "nx.draw(G,pos, with_labels=True, font_weight='bold')\n",
    "\n",
    "labels = nx.get_edge_attributes(G,'weight')\n",
    "nx.draw_networkx_edge_labels(G,pos,edge_labels=labels)\n"
   ]
  },
  {
   "cell_type": "code",
   "execution_count": 3,
   "id": "23b4d92a",
   "metadata": {},
   "outputs": [
    {
     "name": "stdout",
     "output_type": "stream",
     "text": [
      "(1, 2)\n",
      "(1, 3)\n",
      "(1, 4)\n",
      "(2, 4)\n"
     ]
    }
   ],
   "source": [
    "# Traverse the graph using breadth-first search\n",
    "bfs = nx.edge_bfs(G,1)\n",
    "\n",
    "for e in bfs:\n",
    "    print(e)"
   ]
  },
  {
   "cell_type": "code",
   "execution_count": 6,
   "id": "bc4f306f",
   "metadata": {},
   "outputs": [
    {
     "name": "stdout",
     "output_type": "stream",
     "text": [
      "BFS\n",
      "(1, 2)\n",
      "(1, 3)\n",
      "(1, 4)\n",
      "\n",
      "DFS\n",
      "(3, 1)\n",
      "(1, 2)\n",
      "(2, 4)\n"
     ]
    }
   ],
   "source": [
    "print(\"BFS\")\n",
    "\n",
    "bfs = nx.bfs_edges(G, 1)\n",
    "for b in bfs:\n",
    "    print(b)\n",
    "    \n",
    "print(\"\")\n",
    "print(\"DFS\")\n",
    "\n",
    "dfs = nx.dfs_edges(G, 3)\n",
    "for b in dfs:\n",
    "    print(b)"
   ]
  },
  {
   "cell_type": "code",
   "execution_count": 15,
   "id": "00092697",
   "metadata": {},
   "outputs": [
    {
     "name": "stdout",
     "output_type": "stream",
     "text": [
      "Non Weighted [1, 4]\n",
      "\n",
      "Weighted [1, 2, 4]\n"
     ]
    }
   ],
   "source": [
    "# Shortest Path\n",
    "print(\"Non Weighted\",nx.shortest_path(G, source=1, target=4))\n",
    "print(\"\")\n",
    "print(\"Weighted\",nx.shortest_path(G, source=1, target=4, weight=\"weight\"))"
   ]
  },
  {
   "cell_type": "code",
   "execution_count": 18,
   "id": "0bebee53",
   "metadata": {},
   "outputs": [
    {
     "name": "stdout",
     "output_type": "stream",
     "text": [
      "path: [1, 2, 4]\n",
      "path weight: 1.1\n",
      "---\n",
      "path: [1, 4]\n",
      "path weight: 1.5\n",
      "---\n"
     ]
    }
   ],
   "source": [
    "# find all paths from A to B\n",
    "paths = nx.all_simple_paths(G,1,4)\n",
    "for p in paths:\n",
    "    print(\"path:\",p)\n",
    "    print(\"path weight:\",nx.path_weight(G,p, weight=\"weight\"))\n",
    "    print(\"---\")"
   ]
  },
  {
   "cell_type": "code",
   "execution_count": null,
   "id": "18eb3173-482c-41c2-a33a-14e9e4a03d1e",
   "metadata": {},
   "outputs": [],
   "source": [
    "# node 2 is connected with?\n"
   ]
  }
 ],
 "metadata": {
  "kernelspec": {
   "display_name": "Python 3 (ipykernel)",
   "language": "python",
   "name": "python3"
  },
  "language_info": {
   "codemirror_mode": {
    "name": "ipython",
    "version": 3
   },
   "file_extension": ".py",
   "mimetype": "text/x-python",
   "name": "python",
   "nbconvert_exporter": "python",
   "pygments_lexer": "ipython3",
   "version": "3.7.9"
  }
 },
 "nbformat": 4,
 "nbformat_minor": 5
}
