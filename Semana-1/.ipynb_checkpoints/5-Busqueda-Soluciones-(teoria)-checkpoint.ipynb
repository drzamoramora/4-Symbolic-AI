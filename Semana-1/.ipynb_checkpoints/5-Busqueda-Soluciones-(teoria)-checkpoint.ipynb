{
 "cells": [
  {
   "cell_type": "markdown",
   "id": "bde64d4b",
   "metadata": {},
   "source": [
    "# Buscando Soluciones\n",
    "\n",
    "Una **solución** es una secuencia de acción, por lo que los algoritmos de búsqueda funcionan considerando varias secuencias de acción posibles.\n",
    "\n",
    "Las posibles secuencias de acción que comienzan en el estado inicial forman un árbol de búsqueda con el estado inicial en la raíz; las ramas son acciones y los nodos corresponden a estados en el espacio de estados del problema.\n",
    "\n",
    "Esto induca que podemos convertir los problemas en arboles de busqueda y expandirlos para obtener rutas, costos y representar aprendizaje.\n",
    "\n",
    "<img src=\"img/busq4.png\" />\n",
    "\n",
    "El diagrama muestra que iniciamos en el nodo raiz, y buscamos ir a la ciudad de Bucharest (si ahora estamos en Rumania). La idea de la busqueda es ir expandiendo los nodos hasta encontrar una solucion.  \n",
    "\n",
    "Se presenta a continuacion la escencia del algoritmo de Busqueda:\n",
    "\n",
    "<img src=\"img/busq5.png\" />\n",
    "\n",
    "*Los algoritmos que olvidan su historia están condenados a repetirla*. La forma de evitar explorar caminos redundantes es recordar dónde se ha estado. Para hacer esto, aumentamos el algoritmo TREE-SEARCH con una estructura de datos llamada \"explored set\" (también conocida como lista cerrada), que recuerda cada nodo expandido.\n",
    "\n",
    "<img src=\"img/busq6.png\" />"
   ]
  },
  {
   "cell_type": "markdown",
   "id": "241b8312",
   "metadata": {},
   "source": [
    "## Rendimiendo de la busqueda\n",
    "\n",
    "Podemos evaluar el rendimiento de un algoritmo de cuatro maneras:\n",
    "\n",
    "- **Integridad**: ¿Se garantiza que el algoritmo encontrará una solución cuando la hay?\n",
    "- **Optimalidad**: ¿La estrategia encuentra la solución óptima?\n",
    "- **Complejidad del tiempo**: ¿Cuánto tiempo lleva encontrar una solución?\n",
    "- **Complejidad espacial**: ¿Cuánta memoria se necesita para realizar la búsqueda?"
   ]
  }
 ],
 "metadata": {
  "kernelspec": {
   "display_name": "Python 3 (ipykernel)",
   "language": "python",
   "name": "python3"
  },
  "language_info": {
   "codemirror_mode": {
    "name": "ipython",
    "version": 3
   },
   "file_extension": ".py",
   "mimetype": "text/x-python",
   "name": "python",
   "nbconvert_exporter": "python",
   "pygments_lexer": "ipython3",
   "version": "3.7.9"
  }
 },
 "nbformat": 4,
 "nbformat_minor": 5
}
