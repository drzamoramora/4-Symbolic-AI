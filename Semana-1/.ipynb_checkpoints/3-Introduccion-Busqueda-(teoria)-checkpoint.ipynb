{
 "cells": [
  {
   "cell_type": "markdown",
   "id": "8f88747c",
   "metadata": {},
   "source": [
    "# Agentes Solucionadores de Problemas\n",
    "\n",
    "Se supone que los agentes inteligentes deben maximizar su medida de desempeño y para esto el agente puede adoptar un objetivo (Goal).\n",
    "\n",
    "Las metas ayudan a organizar el comportamiento al limitar los objetivos que el agente está tratando de lograr y, por lo tanto, las acciones que debe considerar. La formulación de objetivos, basada en la situación actual y la medida de desempeño del agente, es el primer paso en la resolución de problemas.\n",
    "\n",
    "**Meta o Goal**: se compone por un conjunto de estados en donde el objetivo se cumple.\n",
    "\n",
    "**Formulacion del problema**: es el proceso de decidir qué acciones y estados considerar, para lograr el objetivo.\n",
    "\n",
    "Ejemplo Vehiculo Autonomo: Si un carro esta tratando de entregar un paquete desde el centro de Heredia hasta Tibas, el vehiculo puede tratar de solventar el problema de forma diferente si el ambiente es conocido o desconocido. Si es desconocido, entonces deben empezar a recorrer camino y aprender. Si es un ambiente conocido y observable, pueda que tenga una base de datos (Waze) de caminios y aplicar un algoritmo para seleccionar la ruta mas corta. \n",
    "\n",
    "- al tener un mapa el ambiente se vuelve discreto, ya se sabe cuantas calles, kilometros y ciudades debe recorrer para llegar\n",
    "- tambien se vuelve discreto ya que los estados para que el agente cumpla su objetivo son finitos.\n",
    "- por tanto el ambiente es tambien deterministico ya que hay una solucion que satisface el objetivo.\n",
    "\n",
    "### Busqueda(problema)\n",
    "\n",
    "<font color='red'>**Busqueda:**</font> es el proceso de buscar una secuencia de acciones que logren el objetivo.\n",
    "\n",
    "En este tipo de agente, una vez que se encuentra la solucion (osea la cadena de pasos que satisface el objetivo), el agente procede a ejecutar a ojos cerrados.\n",
    "\n",
    "<img src=\"img/busq1.png\"/>\n",
    "\n",
    "- *Acciones*: dado el estado En(heredia centro), el algoritmo puede generar las posibles acciones Ir(Santo Domingo), Ir(Pirro), Ir(San Pablo).\n",
    "- *Modelo*: a partir de estas opciones se puede generar un modelo de transiciones, similar a un diagrama de estados (un grafo dirigido).\n",
    "- *Pruebas*: se deben construir funciones que indiquen si se ha llegado al objetivo y funciones de costo, que indiquen el costo de tomar la accion \"a\" desde el estado \"s\" hasta el estado \"s'\", osea c(s,a,s')."
   ]
  }
 ],
 "metadata": {
  "kernelspec": {
   "display_name": "Python 3 (ipykernel)",
   "language": "python",
   "name": "python3"
  },
  "language_info": {
   "codemirror_mode": {
    "name": "ipython",
    "version": 3
   },
   "file_extension": ".py",
   "mimetype": "text/x-python",
   "name": "python",
   "nbconvert_exporter": "python",
   "pygments_lexer": "ipython3",
   "version": "3.7.9"
  }
 },
 "nbformat": 4,
 "nbformat_minor": 5
}
