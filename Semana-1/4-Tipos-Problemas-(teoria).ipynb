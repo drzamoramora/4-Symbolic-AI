{
 "cells": [
  {
   "cell_type": "markdown",
   "id": "78b044a1",
   "metadata": {},
   "source": [
    "# Tipos de Problemas\n",
    "\n",
    "Basicamente existen 2 tipos de problemas, los problemas tipo Toy y los problemas reales. Los Toy son meramente ilustrativos y representan un problema con un alto nivel de abstraccion. Los problemas reales son mucho mas complejos.\n",
    "\n",
    "## Problemas Toy\n",
    "\n",
    "Espacio de Estados de la Aspiradora Robot:\n",
    "\n",
    "Los nodos son los posibles estados, los links representan las posibles acciones.\n",
    "\n",
    "<img src=\"img/busq2.png\" />\n",
    "\n",
    "- L: Left o izquierdo\n",
    "- R: Derecho\n",
    "- S: Suck o aspirar\n",
    "\n",
    "Descripcion:\n",
    "\n",
    "- **Estados**: El estado está determinado tanto por la ubicación del agente como por las ubicaciones de suciedad. El agente está en uno de dos lugares, cada uno de los cuales puede o no contener suciedad. Por lo tanto, hay $2 × 2^2 = 8$ posibles estados del mundo.\n",
    "- **Estado Inicial**: Cualquiera.\n",
    "- **Acciones**: R,L,S\n",
    "- **Modelo de Transiciones**: ejemplificado como el grafo de la imagen.\n",
    "- **Prueba de Objetivo**: si esta limpio el cuadro.\n",
    "- **Funcion de Costo**: cada paso que se da suma 1 al costo final.\n",
    "\n",
    "Ejercicio: Defina la descripcion para el siguiente juego: (una pista, este juego es NP-complete)\n",
    "\n",
    "<img src=\"img/busq3.png\" />\n",
    "\n",
    "- **Estados**: \n",
    "- **Estado Inicial**:\n",
    "- **Acciones**: \n",
    "- **Modelo de Transiciones**: \n",
    "- **Prueba de Objetivo**: \n",
    "- **Funcion de Costo**: "
   ]
  },
  {
   "cell_type": "markdown",
   "id": "7c9d069e",
   "metadata": {},
   "source": [
    "## Problemas Reales\n",
    "\n",
    "Los ejemplos anteriores son ejemplos de lo que podemos llamar **\"problemas de busqueda de rutas\"**. Estos tambien puede representarse como problemas en el mundo real.\n",
    "\n",
    "Problema: Busqueda de Viajes (Tipo Expedia)\n",
    "\n",
    "- **Estados**: codigo de aeropuerto, tiempo, segmento de vuelo.\n",
    "- **Estado Inicial**: aeropuerto de salida del usuario (SJO para el Juan Santamaria)\n",
    "- **Acciones**: volar de punto A a B, tomando en cuenta tiempos de conexion\n",
    "- **Modelo de Transiciones**: grafo de vuelos entre aeropuertos\n",
    "- **Prueba de Objetivo**: se puede llegar al destino final a tiempo?\n",
    "- **Funcion de Costo**: costo moneratio, tiempo, millas, etc\n",
    "\n",
    "Otros tipos de problemas:\n",
    "\n",
    "- **Touring**: es como los problemas de busqueda de rutas, pero se debe pasar por todos los puntos. Este es el caso de agentes repartidores que deben entregar mercaderia en todos los comercios.\n",
    "- **Traveling Salesman Problem (TSP)**: Es como Touring pero se debe pasar por los puntos una sola vez. Tambien se busca la ruta mas eficiente (cercana).\n",
    "- **Navegacion Robotica**: Es un tipo de problema de busqueda de rutas pero en un espacio continuo, con un set de acciones y rutas infinitas. El truco es convertir el espacio de busqueda en un espacio finito.\n",
    "- **Secuencias de ensamblaje**: un robot debe encontrar la forma de ensamblar un objeto de forma ordenada, sabiendo que si se equivoca debe des-hacer ciertos pasos lo que afecta el costo final."
   ]
  }
 ],
 "metadata": {
  "kernelspec": {
   "display_name": "Python 3 (ipykernel)",
   "language": "python",
   "name": "python3"
  },
  "language_info": {
   "codemirror_mode": {
    "name": "ipython",
    "version": 3
   },
   "file_extension": ".py",
   "mimetype": "text/x-python",
   "name": "python",
   "nbconvert_exporter": "python",
   "pygments_lexer": "ipython3",
   "version": "3.7.9"
  }
 },
 "nbformat": 4,
 "nbformat_minor": 5
}
