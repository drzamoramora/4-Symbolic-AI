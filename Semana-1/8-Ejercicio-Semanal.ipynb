{
 "cells": [
  {
   "cell_type": "markdown",
   "id": "98750dcd",
   "metadata": {},
   "source": [
    "# Ejercicio Semanal (calificado):\n",
    "\n",
    "\n",
    "### Ejercicio 1:\n",
    "\n",
    "Llene la plantilla de Analisis del Agente para el Juego de Tic-tac-Toe.\n",
    "\n",
    "### Ejercicio 2:\n",
    "\n",
    "Desarrolle la implementacion de Tic-Tac-Toe como un grafo. \n",
    "- El juego del gato (Tic-Tac-Toe) puede ser visto como un conjunto de grafos unidireccionales.\n",
    "- Se gana el juego con 3 en linea ya sea, vertical, horizontal o en diagonal.\n",
    "- Debe implementar un algoritmo que identifique si dado los grafos que se generan, el jugador o la maquina han ganado el juego o empatado.\n",
    "- El agente prefiere empatar a perder.\n",
    "- El agente debe estar pendiente de los grafos del usuario para tomar desiciones.\n",
    "- no es necesario una interfaz grafica, se puede jugar desde consola.\n",
    "\n",
    "\n",
    "## Como se entrega la tarea:\n",
    "\n",
    "En un cuaderno de Jupyter nuevo, realice la documentacion y diseno de su agente. La proxima clase cada uno de los estudiantes expondra su diseno y codigo.\n",
    "\n",
    "# Lecturas Semanales (para discusion la proxima semana sobre Roomba):\n",
    "\n",
    "- Como trabaja la Roomba: https://electronics.howstuffworks.com/gadgets/home/robotic-vacuum2.htm\n",
    "- Visualizacion de la roomba: https://blog.niallconnaughton.com/2016/01/25/roomba-algorithms-and-visualization/\n",
    "- Navegacion: https://www.cnet.com/home/kitchen-and-household/this-is-why-your-roombas-random-patterns-actually-make-perfect-sense/\n",
    "- Opcional: https://kth.diva-portal.org/smash/get/diva2:1214422/FULLTEXT01.pdf"
   ]
  }
 ],
 "metadata": {
  "kernelspec": {
   "display_name": "Python 3 (ipykernel)",
   "language": "python",
   "name": "python3"
  },
  "language_info": {
   "codemirror_mode": {
    "name": "ipython",
    "version": 3
   },
   "file_extension": ".py",
   "mimetype": "text/x-python",
   "name": "python",
   "nbconvert_exporter": "python",
   "pygments_lexer": "ipython3",
   "version": "3.7.9"
  }
 },
 "nbformat": 4,
 "nbformat_minor": 5
}
