{
 "cells": [
  {
   "cell_type": "markdown",
   "id": "6f667a41",
   "metadata": {},
   "source": [
    "# AIMA Propositional Logic Library - Python"
   ]
  },
  {
   "cell_type": "code",
   "execution_count": 1,
   "id": "0adfe644",
   "metadata": {},
   "outputs": [],
   "source": [
    "#!pip install ipythonblocks\n",
    "\n",
    "from utils import *\n",
    "from logic import *"
   ]
  },
  {
   "cell_type": "markdown",
   "id": "ba2ddd71",
   "metadata": {},
   "source": [
    "## Oraciones Logicas"
   ]
  },
  {
   "cell_type": "code",
   "execution_count": 2,
   "id": "a67300dd",
   "metadata": {},
   "outputs": [
    {
     "data": {
      "text/plain": [
       "x"
      ]
     },
     "execution_count": 2,
     "metadata": {},
     "output_type": "execute_result"
    }
   ],
   "source": [
    "# expresion simple de un simbolo\n",
    "Symbol('x')"
   ]
  },
  {
   "cell_type": "code",
   "execution_count": 3,
   "id": "54b6c79c",
   "metadata": {},
   "outputs": [],
   "source": [
    "# definir multiples simbolos\n",
    "(x, y, P, Q, f) = symbols('x, y, P, Q, f')"
   ]
  },
  {
   "cell_type": "code",
   "execution_count": 4,
   "id": "aecfeeb1",
   "metadata": {},
   "outputs": [
    {
     "name": "stdout",
     "output_type": "stream",
     "text": [
      "(P & ~Q)\n"
     ]
    }
   ],
   "source": [
    "# ejemplo de oracion logica\n",
    "oracion = P & ~Q\n",
    "print(oracion)"
   ]
  },
  {
   "cell_type": "code",
   "execution_count": 5,
   "id": "3c216a6a",
   "metadata": {},
   "outputs": [
    {
     "data": {
      "text/plain": [
       "'&'"
      ]
     },
     "execution_count": 5,
     "metadata": {},
     "output_type": "execute_result"
    }
   ],
   "source": [
    "# operador usado en la oracion logica\n",
    "oracion.op"
   ]
  },
  {
   "cell_type": "code",
   "execution_count": 6,
   "id": "abe82cac",
   "metadata": {},
   "outputs": [
    {
     "data": {
      "text/plain": [
       "(P, ~Q)"
      ]
     },
     "execution_count": 6,
     "metadata": {},
     "output_type": "execute_result"
    }
   ],
   "source": [
    "#argumentos de la oracion\n",
    "oracion.args"
   ]
  },
  {
   "cell_type": "code",
   "execution_count": 7,
   "id": "2469e528",
   "metadata": {},
   "outputs": [
    {
     "name": "stdout",
     "output_type": "stream",
     "text": [
      "operadores: P\n",
      "argumentos (x, y)\n"
     ]
    }
   ],
   "source": [
    "Pxy = P(x, y)\n",
    "print(\"operadores:\", Pxy.op)\n",
    "print(\"argumentos\", Pxy.args)"
   ]
  },
  {
   "cell_type": "code",
   "execution_count": 8,
   "id": "c3fe175d",
   "metadata": {},
   "outputs": [
    {
     "name": "stdout",
     "output_type": "stream",
     "text": [
      "operadores: +\n",
      "argumentos (((3 * f(x, y)) + (P(y) / 2)), 1)\n"
     ]
    }
   ],
   "source": [
    "oracion = 3 * f(x, y) + P(y) / 2 + 1\n",
    "print(\"operadores:\", oracion.op)\n",
    "print(\"argumentos\", oracion.args)"
   ]
  },
  {
   "cell_type": "markdown",
   "id": "31c9171f",
   "metadata": {},
   "source": [
    "## Operadores para oraciones logicas\n",
    "\n",
    "| Operation                | Book | Python Infix Input | Python Output | Python `Expr` Input\n",
    "|--------------------------|----------------------|-------------------------|---|---|\n",
    "| Negation                 | &not; P      | `~P`                       | `~P` | `Expr('~', P)`\n",
    "| And                      | P &and; Q       | `P & Q`                     | `P & Q` | `Expr('&', P, Q)`\n",
    "| Or                       | P &or; Q | `P`<tt> &#124; </tt>`Q`| `P`<tt> &#124; </tt>`Q` | `Expr('`&#124;`', P, Q)`\n",
    "| Inequality (Xor)         | P &ne; Q     | `P ^ Q`                | `P ^ Q`  | `Expr('^', P, Q)`\n",
    "| Implication                  | P &rarr; Q    | `P` <tt>&#124;</tt>`'==>'`<tt>&#124;</tt> `Q`   | `P ==> Q` | `Expr('==>', P, Q)`\n",
    "| Reverse Implication      | Q &larr; P     | `Q` <tt>&#124;</tt>`'<=='`<tt>&#124;</tt> `P`  |`Q <== P` | `Expr('<==', Q, P)`\n",
    "| Equivalence            | P &harr; Q   | `P` <tt>&#124;</tt>`'<=>'`<tt>&#124;</tt> `Q`   |`P <=> Q` | `Expr('<=>', P, Q)`\n"
   ]
  },
  {
   "cell_type": "code",
   "execution_count": 9,
   "id": "35bc2ab0",
   "metadata": {},
   "outputs": [
    {
     "name": "stdout",
     "output_type": "stream",
     "text": [
      "operadores: ==>\n",
      "argumentos (~(P & Q), (~P | ~Q))\n"
     ]
    }
   ],
   "source": [
    "oracion = ~(P & Q)  |'==>'|  (~P | ~Q)\n",
    "print(\"operadores:\", oracion.op)\n",
    "print(\"argumentos\", oracion.args)"
   ]
  },
  {
   "cell_type": "code",
   "execution_count": 10,
   "id": "9414d02d",
   "metadata": {},
   "outputs": [
    {
     "name": "stdout",
     "output_type": "stream",
     "text": [
      "operadores: ==>\n",
      "argumentos (~(P & Q), (~P | ~Q))\n"
     ]
    }
   ],
   "source": [
    "# construccion de oraciones con String, usamos expr\n",
    "oracion = expr('~(P & Q)  ==>  (~P | ~Q)')\n",
    "print(\"operadores:\", oracion.op)\n",
    "print(\"argumentos\", oracion.args)"
   ]
  },
  {
   "cell_type": "code",
   "execution_count": 11,
   "id": "5118df0f",
   "metadata": {},
   "outputs": [
    {
     "name": "stdout",
     "output_type": "stream",
     "text": [
      "operadores: sqrt\n",
      "argumentos (((b ** 2) - ((4 * a) * c)),)\n"
     ]
    }
   ],
   "source": [
    "oracion = expr('sqrt(b ** 2 - 4 * a * c)')\n",
    "print(\"operadores:\", oracion.op)\n",
    "print(\"argumentos\", oracion.args)"
   ]
  },
  {
   "cell_type": "markdown",
   "id": "b7c3f43d",
   "metadata": {},
   "source": [
    "## Construccion del Knowledge Base"
   ]
  },
  {
   "cell_type": "code",
   "execution_count": 12,
   "id": "1e1bd9bb",
   "metadata": {},
   "outputs": [],
   "source": [
    "# knowledge base para el mundo del Wumpus\n",
    "wumpus_kb = PropKB()\n",
    "\n",
    "# expresiones de cada casilla....\n",
    "P11, P12, P21, P22, P31, B11, B21 = expr('P11, P12, P21, P22, P31, B11, B21')"
   ]
  },
  {
   "cell_type": "code",
   "execution_count": 13,
   "id": "dcecd1af",
   "metadata": {},
   "outputs": [],
   "source": [
    "# no hay pit en [1,1]\n",
    "wumpus_kb.tell(~P11)"
   ]
  },
  {
   "cell_type": "code",
   "execution_count": 14,
   "id": "7bbfd658",
   "metadata": {},
   "outputs": [],
   "source": [
    "# existe brisa solo si un cuadro aledano tiene un pit\n",
    "wumpus_kb.tell(B11 | '<=>' | ((P12 | P21)))\n",
    "wumpus_kb.tell(B21 | '<=>' | ((P11 | P22 | P31)))"
   ]
  },
  {
   "cell_type": "code",
   "execution_count": 15,
   "id": "649bcc88",
   "metadata": {},
   "outputs": [],
   "source": [
    "# indicamos que no hay brisa en B[1,1] pero si hay en B[2,1]\n",
    "wumpus_kb.tell(~B11)\n",
    "wumpus_kb.tell(B21)"
   ]
  },
  {
   "cell_type": "code",
   "execution_count": 16,
   "id": "eea88f25",
   "metadata": {},
   "outputs": [
    {
     "data": {
      "text/plain": [
       "[~P11,\n",
       " (~P12 | B11),\n",
       " (~P21 | B11),\n",
       " (P12 | P21 | ~B11),\n",
       " (~P11 | B21),\n",
       " (~P22 | B21),\n",
       " (~P31 | B21),\n",
       " (P11 | P22 | P31 | ~B21),\n",
       " ~B11,\n",
       " B21]"
      ]
     },
     "execution_count": 16,
     "metadata": {},
     "output_type": "execute_result"
    }
   ],
   "source": [
    "# revision del knowledge base hasta el momento...\n",
    "wumpus_kb.clauses"
   ]
  },
  {
   "cell_type": "markdown",
   "id": "fe3eac51",
   "metadata": {},
   "source": [
    "### Preguntas al KB"
   ]
  },
  {
   "cell_type": "code",
   "execution_count": 17,
   "id": "046ca616",
   "metadata": {},
   "outputs": [
    {
     "name": "stdout",
     "output_type": "stream",
     "text": [
      "Existe Pit en [1,1]: False\n",
      "Hay Brisa en [1,1]: False\n",
      "No hay pit [1,1] True\n"
     ]
    }
   ],
   "source": [
    "print(\"Existe Pit en [1,1]:\", wumpus_kb.ask_if_true(P11))\n",
    "print(\"Hay Brisa en [1,1]:\", wumpus_kb.ask_if_true(B11))\n",
    "print(\"No hay pit [1,1]\", wumpus_kb.ask_if_true(~P11))"
   ]
  },
  {
   "cell_type": "markdown",
   "id": "c290e670",
   "metadata": {},
   "source": [
    "## tt_entails"
   ]
  },
  {
   "cell_type": "code",
   "execution_count": 18,
   "id": "773946c0",
   "metadata": {},
   "outputs": [
    {
     "name": "stdout",
     "output_type": "stream",
     "text": [
      "True\n",
      "False\n",
      "False\n"
     ]
    }
   ],
   "source": [
    "print(tt_entails(P & Q, Q)) #  (P & Q) => Q ?\n",
    "print(tt_entails(P | Q, Q))\n",
    "print(tt_entails(P | Q, P))"
   ]
  },
  {
   "cell_type": "markdown",
   "id": "b8adfb07",
   "metadata": {},
   "source": [
    "## Practica 2\n",
    "\n",
    "Imprima el siguiente arbol a partir de la expresion \"~(P & Q)  ==>  (~P | ~Q)\"\n",
    "\n",
    "- ==>\n",
    "    -        ~\n",
    "        -            &\n",
    "                -                P\n",
    "                -                Q       \n",
    "    -        |\n",
    "        -            ~\n",
    "                -                P\n",
    "        -            ~\n",
    "                -                Q"
   ]
  },
  {
   "cell_type": "code",
   "execution_count": null,
   "id": "58f828b0",
   "metadata": {},
   "outputs": [],
   "source": [
    "# Imprima el arbol de las operaciones "
   ]
  }
 ],
 "metadata": {
  "kernelspec": {
   "display_name": "Python 3 (ipykernel)",
   "language": "python",
   "name": "python3"
  },
  "language_info": {
   "codemirror_mode": {
    "name": "ipython",
    "version": 3
   },
   "file_extension": ".py",
   "mimetype": "text/x-python",
   "name": "python",
   "nbconvert_exporter": "python",
   "pygments_lexer": "ipython3",
   "version": "3.7.9"
  }
 },
 "nbformat": 4,
 "nbformat_minor": 5
}
