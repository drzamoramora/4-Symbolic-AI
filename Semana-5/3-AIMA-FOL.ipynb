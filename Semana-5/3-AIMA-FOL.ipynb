{
 "cells": [
  {
   "cell_type": "markdown",
   "id": "379566d4",
   "metadata": {},
   "source": [
    "# AIMA First-Order Logic Library - Python"
   ]
  },
  {
   "cell_type": "code",
   "execution_count": 38,
   "id": "7d67415e",
   "metadata": {},
   "outputs": [],
   "source": [
    "from utils import *\n",
    "from logic import *"
   ]
  },
  {
   "cell_type": "markdown",
   "id": "ad0d25ae",
   "metadata": {},
   "source": [
    "<em>“... es un crimen que un estadounidense venda armas a naciones hostiles”</em><br/>\n",
    "The keywords to look for here are 'crime', 'American', 'sell', 'weapon' and 'hostile'. We use predicate symbols to make meaning of them.\n",
    "\n",
    "* `Criminal(x)`: `x` is a criminal\n",
    "* `American(x)`: `x` is an American\n",
    "* `Sells(x ,y, z)`: `x` sells `y` to `z`\n",
    "* `Weapon(x)`: `x` is a weapon\n",
    "* `Hostile(x)`: `x` is a hostile nation\n",
    "\n",
    "Let us now combine them with appropriate variable naming to depict the meaning of the sentence. The criminal `x` is also the American `x` who sells weapon `y` to `z`, which is a hostile nation.\n",
    "\n",
    "$\\text{American}(x) \\land \\text{Weapon}(y) \\land \\text{Sells}(x, y, z) \\land \\text{Hostile}(z) \\implies \\text{Criminal} (x)$"
   ]
  },
  {
   "cell_type": "code",
   "execution_count": 39,
   "id": "5893e26d",
   "metadata": {},
   "outputs": [],
   "source": [
    "clauses.append(expr(\"(American(x) & Weapon(y) & Sells(x, y, z) & Hostile(z)) ==> Criminal(x)\"))\n",
    "clauses.append(expr(\"Enemy(Nono, America)\"))\n",
    "clauses.append(expr(\"Owns(Nono, M1)\"))\n",
    "clauses.append(expr(\"Missile(M1)\"))\n",
    "clauses.append(expr(\"(Missile(x) & Owns(Nono, x)) ==> Sells(West, x, Nono)\"))\n",
    "clauses.append(expr(\"American(West)\"))\n",
    "clauses.append(expr(\"Missile(x) ==> Weapon(x)\"))\n",
    "clauses.append(expr(\"Enemy(x, America) ==> Hostile(x)\"))"
   ]
  },
  {
   "cell_type": "markdown",
   "id": "adbd8383",
   "metadata": {},
   "source": [
    "## Crear el Knowledge Base"
   ]
  },
  {
   "cell_type": "code",
   "execution_count": 40,
   "id": "d024d39a",
   "metadata": {},
   "outputs": [],
   "source": [
    "crime_kb = FolKB(clauses)"
   ]
  },
  {
   "cell_type": "code",
   "execution_count": 47,
   "id": "a0fd7977",
   "metadata": {},
   "outputs": [
    {
     "name": "stdout",
     "output_type": "stream",
     "text": [
      "[{x: JaJa}, {x: Nono}]\n"
     ]
    }
   ],
   "source": [
    "crime_kb.tell(expr('Enemy(JaJa, America)'))\n",
    "\n",
    "answer = fol_fc_ask(crime_kb, expr('Hostile(x)'))\n",
    "print(list(answer))"
   ]
  },
  {
   "cell_type": "markdown",
   "id": "823c64fd",
   "metadata": {},
   "source": [
    "## Consideraciones Wumpus World en FOL\n",
    "\n",
    "- Ejemplo predicado: Percept ([Stench, Breeze, Glitter , None, None], 5)\n",
    "- Terminos Logicos: Turn(Right ), Turn(Left ), Forward , Shoot , Grab, Climb\n",
    "- Determinar la mejor accion en paso t, BestAction(a, 5)\n",
    "- Ejemplos de implicaciones:\n",
    "    - ∀ t, s, g, m, c Percept ([s, Breeze, g,m, c], t) ⇒ Breeze(t)\n",
    "    - ∀ t, s, b, m, c Percept ([s, b, Glitter,m, c], t) ⇒ Glitter (t)\n",
    "- Implicaciones quantificadas: ∀ t Glitter (t) ⇒ BestAction(Grab, t)\n",
    "- Determinar cuadro adjacente: ∀ x, y, a, b Adjacent ([x, y], [a, b]) ⇔ (x = a ∧ (y = b − 1 ∨ y = b + 1)) ∨ (y = b ∧ (x = a − 1 ∨ x = a + 1)) .\n",
    "- Un cuadro es tipo Brisa si percibe brisa, ∀ s, t At(Agent, s, t) ∧ Breeze(t) ⇒ Breezy(s) .\n",
    "- Cuando un cuadro tiene brisa... ∀ s Breezy(s) ⇔ ∃r Adjacent (r, s) ∧ Pit(r)"
   ]
  },
  {
   "cell_type": "code",
   "execution_count": null,
   "id": "bd2bde35",
   "metadata": {},
   "outputs": [],
   "source": []
  }
 ],
 "metadata": {
  "kernelspec": {
   "display_name": "Python 3 (ipykernel)",
   "language": "python",
   "name": "python3"
  },
  "language_info": {
   "codemirror_mode": {
    "name": "ipython",
    "version": 3
   },
   "file_extension": ".py",
   "mimetype": "text/x-python",
   "name": "python",
   "nbconvert_exporter": "python",
   "pygments_lexer": "ipython3",
   "version": "3.7.9"
  }
 },
 "nbformat": 4,
 "nbformat_minor": 5
}
