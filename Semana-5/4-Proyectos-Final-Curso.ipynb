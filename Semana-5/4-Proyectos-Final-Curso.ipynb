{
 "cells": [
  {
   "cell_type": "markdown",
   "id": "c589494f",
   "metadata": {},
   "source": [
    "# Proyectos\n",
    "\n",
    "Para concluir el curso y darle seguimiento no solo a la materia vista en este curso sino en cursos anteriores, ud debera escoger uno de los siguientes temas de investigacion y desarrollar una prueba de concepto para mostrar en clase a sus companeros en la ultima clase del curso (Semana 8)\n",
    "\n",
    "\n",
    "## 20Q FOL - Python\n",
    "- Desarrollo de juego 20Q con Logic de primer orden. Tema: Personajes de Harry Potter.\n",
    "\n",
    "## 20Q - FOL - SWI-Prolog\n",
    "- Desarrollo de juego 20Q con Logic de primer orden. Tema: Personajes de Harry Potter con SWI Prolog https://www.swi-prolog.org/ o una implementacion de prolog para Python. https://www.openbookproject.net/py4fun/prolog/prolog1.html\n",
    "\n",
    "## Neo4j - Cypher Inferencia del Crimen\n",
    "- Neo4J es una bases de datos basada en el lenguage Cypher el cual se basa en predicados logicos tipo juan-[profe]-david y permite preguntar al modelo cuales son los profes de david o bien los alumnos de juan. En este proyecto ud debe investiga sobre la inferencia en el motor. Por ejemplo si se determina que Jose es el papa de Anna y Maria, puede el motor inferir una relacion entre Maria y Anna? Pueden usar la base de datos de crimen de londres en https://neo4j.com/graphgists/city-of-london-crime-analysis/\n",
    "\n",
    "## Atari Lunar Lander - DQN\n",
    "\n",
    "Deben entrenar el agente para que aprenda a atterizar el Lander usando Deep Q-Networks. Puede hacer uso de la libreria DQNAgent para entrenar el agente. https://gym.openai.com/envs/LunarLander-v2/ \n",
    "\n",
    "## BipedalWalker - DQN\n",
    "\n",
    "Al igual que en el lunar lander, debe hacer uso de DQN para ensenarle al robot bipedal a caminar. https://gym.openai.com/envs/BipedalWalker-v2/\n",
    "\n",
    "## CarRacing - DQN\n",
    "\n",
    "Este proyecto de Open AI gym tiene un carrito que debe aprender a conducirse solo. Este proyecto usa como elemento de entrada una imagen de 96x96 pixeles como unica informacion para entrenar el agente. https://gym.openai.com/envs/CarRacing-v0/\n",
    "\n",
    "## Juego de Futbol Unity ML Agents\n",
    "\n",
    "En este proyecto, existen 2 jugadores adversarios que deben anotar un gol para ganar en la cancha contraria. Cada jugador consta de un cubo y la bola es una esfera. Los marcos son 2 rectangulos en el piso donde la bola tiene que pasar para anotar. Si el jugado saca la bola de la cancha el ambiens e reinicia, el el jugador patea la bola (colision) hay un reward de 0.1 y hay gol hay reward de 1. Si el otro jugador le quita la bola hay reward de -1.\n",
    "\n",
    "## Space Invaders - DQN - PyGame\n",
    "\n",
    "Debe crear un agente DQN para entrenar la nave para que juegue space invaders. El codigo a utilizar es: https://github.com/leerob/space-invaders"
   ]
  }
 ],
 "metadata": {
  "kernelspec": {
   "display_name": "Python 3 (ipykernel)",
   "language": "python",
   "name": "python3"
  },
  "language_info": {
   "codemirror_mode": {
    "name": "ipython",
    "version": 3
   },
   "file_extension": ".py",
   "mimetype": "text/x-python",
   "name": "python",
   "nbconvert_exporter": "python",
   "pygments_lexer": "ipython3",
   "version": "3.7.9"
  }
 },
 "nbformat": 4,
 "nbformat_minor": 5
}
