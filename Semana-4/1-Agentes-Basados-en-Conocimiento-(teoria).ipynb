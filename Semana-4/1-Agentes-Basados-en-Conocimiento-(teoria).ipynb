{
 "cells": [
  {
   "cell_type": "markdown",
   "id": "f4bb7a6d",
   "metadata": {},
   "source": [
    "# Agentes Basados en Conocimiento\n",
    "\n",
    "Hasta el momento, hemos desarrollado Agentes solucionadores de problemas (problem-solving agents). Como nos hemos dado cuenta, estos son limitados, ya que tratan de explorar todas las posibilidades y en ambientes parcialmente visibles esto es una tarea casi imposible.\n",
    "\n",
    "Existen otro tipo de agentes: los agentes basados en conocimientos (knowledge-based agents) los cuales obtienen información del ambiente y la almacenan en una fuente de conocimiento. \n",
    "\n",
    "Podemos decir de los agentes basados en conocimiento:\n",
    "\n",
    "-\tQue su componente central es la base de datos de conocimiento (KB)\n",
    "-\tLa información que se almacena se guarda en forma de “oraciones”. En realidad, son axiomas, y son parte de un lenguaje de representación de conocimiento.\n",
    "-\tExisten comandos básicos del lenguaje como TELL, que le dice al KB algo. También existe ASK, donde preguntamos al KB algo.\n",
    "-\tEl nuevo conocimiento puede verse como nuevas proposiciones que se agregan al KB por medio de inferencia.\n",
    "\n",
    "\n",
    "El siguiente seudocódigo muestra la estructura más básica de un agente basado en conocimiento. Dado un percepto, el agente agrega el percepto a su base de conocimiento, le pregunta a la base de conocimiento cuál es la mejor acción y le dice a la base de conocimiento que, de hecho, ha tomado esa acción.\n",
    "\n",
    "<img src=\"img/a1.png\" />\n",
    "\n",
    "## Wumpus World\n",
    "\n",
    "El mundo wumpus es una cueva que consta de habitaciones conectadas por pasadizos. Acechando en algún lugar de la cueva está el terrible wumpus, una bestia que se come a cualquiera que entre en su habitación. Un agente puede dispararle al wumpus, pero el agente solo tiene una flecha. Algunas habitaciones contienen pozos sin fondo que atraparán a cualquiera que deambule por estas habitaciones (excepto el wumpus, que es demasiado grande para caer). La única característica atenuante de este entorno sombrío es la posibilidad de encontrar un montón de oro. Aunque el mundo de los wumpus es bastante básico para los estándares de los juegos de computadora modernos, ilustra algunos puntos importantes sobre la inteligencia.\n",
    "\n",
    "- **Medida de Rendimiento**: +1000 por salir de la cueva con el oro. -1000 por caer en un pozo o que se lo coma el wumpus. -1 por cada acción tomada, -10 por usar la flecha. El juego termina si el agente muere o cuando sale de la cueva.\n",
    "- **Ambiente**: es un grid de 4 x 4 cuartos. El agente inicia en [1,1]. El oro y el wumpus se escoge de forma aleatoria basado en una distribución normal. La probabilidad de que cualquier cuadro sea un pozo es de 0.2\n",
    "- **Actuadores**: EL agente puede moverse adelante, girar izquierda 90 grados o girar a la derecha 90 grados. Es seguro entrar a un cuadro cuando hay un wumpus muerto (hay un olor a muerto). La acción Grab se usa para juntar el oro. La acción Shoot se usa para disparar la flecha en la dirección de frente del agente. La flecha disparada colisiona con el wumpus o con la pared. Debido a que hay una flecha, solo el primer uso de Shoot tiene efecto. La acción Climb se usa para salir de la cueva, pero solo se puede usar en el cuadro [1,1].\n",
    "- **Sensores**: El agente tiene 5 sensores:\n",
    "    - Si el wumpus esta en cuadros adyacentes (no los diagonales) se percibe el olor a                         podrido (Stench).\n",
    "    - Si el agente esta en un cuadro adyacente a un pozo, el agente percibe una brisa o viento (Breeze).\n",
    "    - Si el agente esta donde hay oro, percibe un destello dorado (Glitter).\n",
    "    - Si el agente choca contra una pared este percibe un choque o (Bump). \n",
    "    - Si el agente mata el wumpus, este percibe un grito (Scream) desde cualquier lugar de la cueva. \n",
    "    \n",
    "Los percepts de el wumpus world son dados al agente en una lista de tamaño 5: por ejemplo, precepts = [Stench, Breeze, None, None, None]\n",
    "\n",
    "El mundo del wumpus es discreto, estático, uni-agente, parcialmente observable. Hay varias cosas que no sabemos como a donde están los pozos, el wumpus, si el wumpus esta vivo o muerto, y la cantidad de flechas disponibles.\n",
    "\n",
    "Ejemplo de una configuración del mundo del Wumpus\n",
    "\n",
    "<img src=\"img/a2.png\" />\n",
    "\n",
    "Para un agente del entorno, el principal desafío es su desconocimiento inicial de la configuración del entorno; superar esta ignorancia parece requerir un razonamiento lógico.\n",
    "\n",
    "Ejemplo de navegación el wumpus world\n",
    "\n",
    "<img src=\"img/a3.png\" />\n",
    "\n",
    "El primer paso que da el agente en el mundo wumpus. (a) La situación inicial, después de la percepción [Ninguno, Ninguno, Ninguno, Ninguno, Ninguno]. (b) Después de un movimiento, con percepción [Ninguna, Brisa, Ninguna, Ninguna, Ninguna].\n",
    "\n",
    "<img src=\"img/a4.png\" />\n",
    "\n",
    "Dos etapas posteriores en el progreso del agente. (a) Después del tercer movimiento, con percepción [Hedor, Ninguno, Ninguno, Ninguno, Ninguno]. (b) Después del quinto movimiento, con percepción [Hedor, Brisa, Brillo, Ninguno, Ninguno]."
   ]
  },
  {
   "cell_type": "code",
   "execution_count": null,
   "id": "be379b47",
   "metadata": {},
   "outputs": [],
   "source": []
  }
 ],
 "metadata": {
  "kernelspec": {
   "display_name": "Python 3 (ipykernel)",
   "language": "python",
   "name": "python3"
  },
  "language_info": {
   "codemirror_mode": {
    "name": "ipython",
    "version": 3
   },
   "file_extension": ".py",
   "mimetype": "text/x-python",
   "name": "python",
   "nbconvert_exporter": "python",
   "pygments_lexer": "ipython3",
   "version": "3.7.9"
  }
 },
 "nbformat": 4,
 "nbformat_minor": 5
}
