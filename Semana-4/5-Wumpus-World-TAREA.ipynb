{
 "cells": [
  {
   "cell_type": "code",
   "execution_count": null,
   "id": "aad9d671",
   "metadata": {},
   "outputs": [],
   "source": [
    "import numpy as np"
   ]
  },
  {
   "cell_type": "markdown",
   "id": "20da3d64",
   "metadata": {},
   "source": [
    "<img src=\"img/a2.png\" />"
   ]
  },
  {
   "cell_type": "code",
   "execution_count": null,
   "id": "a7552ed1",
   "metadata": {},
   "outputs": [],
   "source": [
    "class WumpusWorld:\n",
    "    \n",
    "    def __init__(self):\n",
    "        self.world = np.matrix([    \n",
    "            ['S', '','B','P'], \n",
    "            ['W', 'B,S,G','P','B'], \n",
    "            ['S', '','B',''], \n",
    "            ['', 'B','P','B']\n",
    "        ])\n",
    "    \n",
    "    def get_pos(self, wld, col, row):\n",
    "        return wld[4-row, col-1]\n",
    "\n",
    "    def cell(self, col, row):\n",
    "        return self.get_pos(self.world, col, row).split(\",\")\n",
    "\n",
    "    def view(self):\n",
    "        return self.world"
   ]
  },
  {
   "cell_type": "code",
   "execution_count": null,
   "id": "fcee4a26",
   "metadata": {},
   "outputs": [],
   "source": [
    "world = WumpusWorld()       \n",
    "\n",
    "print(\"Cell [1,3] contains\", world.cell(1,3))\n",
    "print(\"Cell [1,3] contains\", world.cell(2,3))"
   ]
  },
  {
   "cell_type": "code",
   "execution_count": null,
   "id": "dabfb6c1",
   "metadata": {},
   "outputs": [],
   "source": [
    "class KnowledgeBase:\n",
    "    def __init__(self):\n",
    "        return None\n",
    "    def tell(self):\n",
    "        return None\n",
    "    def ask(self):\n",
    "        return None"
   ]
  },
  {
   "cell_type": "markdown",
   "id": "a6cc01b3",
   "metadata": {},
   "source": [
    "# Agent Definition"
   ]
  },
  {
   "cell_type": "code",
   "execution_count": null,
   "id": "7a8b7a99",
   "metadata": {},
   "outputs": [],
   "source": [
    "class Agent:\n",
    "    def __init__(self, w_world, kb, start_col, start_row):\n",
    "        self.w_world = w_world\n",
    "        self.start_col = start_col\n",
    "        self.start_row = start_row\n",
    "        self.is_alive = True\n",
    "        self.has_exited = False\n",
    "        self.kb = kb\n",
    "        self.score = 0\n",
    "        \n",
    "    def loc(self):\n",
    "        return np.array([self.start_col, self.start_row])\n",
    "    \n",
    "    # sensors (this must be an array of size 5...)\n",
    "    def perceives(self):\n",
    "        pos = self.loc()\n",
    "        return self.w_world.cell(pos[0],pos[1])\n",
    "    \n",
    "    # TODO: returns the list of all adjacent locations (and sense whats there) from current position\n",
    "    # this can only return inmediate locations to current position, does not return diagonal cells\n",
    "    def adjacent(self):\n",
    "        return 0\n",
    "    \n",
    "    # TODO: forward, rotate-left, rotate-right, shoot. Agent can only move one step at the time\n",
    "    def move(self, action):\n",
    "        return 0\n",
    "    \n",
    "    # TODO: this is the main algorithm. Tne agent must find the best path toward Gold by using\n",
    "    # propositional logic\n",
    "    # this algorithm returns the path taken to Gold or to death.\n",
    "    def find_gold(self):\n",
    "        return \"path.... with score:\" + str(self.score)"
   ]
  },
  {
   "cell_type": "code",
   "execution_count": null,
   "id": "c40eb004",
   "metadata": {},
   "outputs": [],
   "source": [
    "world = WumpusWorld() \n",
    "agent = Agent(world, None, 1, 1)\n",
    "\n",
    "print(\"Agent is on\", agent.loc())\n",
    "print(\"Agent Perceives\", agent.perceives())"
   ]
  },
  {
   "cell_type": "markdown",
   "id": "f39499ab",
   "metadata": {},
   "source": [
    "# Main Program"
   ]
  },
  {
   "cell_type": "code",
   "execution_count": null,
   "id": "ed9cb79b",
   "metadata": {},
   "outputs": [],
   "source": [
    "agent = Agent(WumpusWorld(), KnowledgeBase(), 1, 1)\n",
    "agent.find_gold()"
   ]
  }
 ],
 "metadata": {
  "kernelspec": {
   "display_name": "Python 3 (ipykernel)",
   "language": "python",
   "name": "python3"
  },
  "language_info": {
   "codemirror_mode": {
    "name": "ipython",
    "version": 3
   },
   "file_extension": ".py",
   "mimetype": "text/x-python",
   "name": "python",
   "nbconvert_exporter": "python",
   "pygments_lexer": "ipython3",
   "version": "3.7.9"
  }
 },
 "nbformat": 4,
 "nbformat_minor": 5
}
