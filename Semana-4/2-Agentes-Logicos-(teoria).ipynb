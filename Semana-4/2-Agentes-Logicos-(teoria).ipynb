{
 "cells": [
  {
   "cell_type": "markdown",
   "id": "6f5d4ec1",
   "metadata": {},
   "source": [
    "# Agentes Lógicos\n",
    "\n",
    "Para nuestro agente necesitamos un lenguaje para representar la lógica de las observaciones. Necesitamos una sintaxis para definir la correctitud de las expresiones. Necesitamos semántica para la correctitud de estas. Por ejemplo, x + y = 4 tiene una sintaxis correcta y la semántica nos dice que esto es cierto para x = 2 & y = 2. Cuando hablamos de modelo, estamos describiendo una “versión” del mundo. \n",
    "\n",
    "Podemos decir entonces que una sentencia $\\alpha$ es verdadera en el modelo M, si M satisface $\\alpha$. La notación $M(\\alpha)$ se usa para decir “Todos los modelos de $\\alpha$”.\n",
    "\n",
    "\n",
    "## Razonamiento Lógico:\n",
    "\n",
    "(α |= β) Vinculación Lógica: la oración implica a la oración b. \n",
    "\n",
    "Entonces:\n",
    "\n",
    "(α |= β if and only if M(α) ⊆ M(β) .) \n",
    "\n",
    "\n",
    "Dado el escenario en (b)\n",
    "\n",
    "<img src=\"img/a5.png\" />\n",
    "\n",
    "-\tEl agente no detecto nada en [1,1]\n",
    "-\tEl agente ahora esta interesado en saber si los cuadros adyacentes [1,2], [2,2] y [3,1] tienen pozos (P). \n",
    "\n",
    "De esto se pueden hacer se sentencias verdaderas o sentencias falsas tales como “[1,2] contiene un pozo porque no hay brisa en [1,1]”\n",
    "\n",
    "Algunas conclusiones iniciales:\n",
    "\n",
    "- $\\alpha_1$ = “no hay pozo en [1,2]”\n",
    "- $\\alpha_2$ = “no hay pozo en [2,2]”\n",
    "\n",
    "<img src=\"img/a6.png\" />\n",
    "\n",
    "La figura anterior denota 2 posibles modelos, de ahí vemos que en ambos $\\alpha_1$ es siempre verdadero. Por tanto, podemos concluir que no hay pozo en [1,2]. También podemos decir que si existe en un modelo $\\alpha_2$ es verdadero, pero en otro es falso, entonces podemos decir que $\\alpha_2$ es falso (usando la tabla de verdad de AND).\n",
    "\n",
    "Este es un ejemplo muy importante no solo para demostrar la implicación lógica, sino que también sirve para llegar a conclusiones, a las cuales llamaremos inferencia lógica. \n",
    "\n",
    "Cuando se enumeran todos los posibles modelos donde $\\alpha$ es verdadero y estos modelos son pare de KB entonces, podemos decir que $\\alpha$ es siempre verdadero.\n",
    "\n",
    "M(KB) ⊆ M(α)\n",
    "\n",
    "Decimos que si un algoritmo de inferencia i puede derivar $\\alpha$ de KB entonces\n",
    "\n",
    "KB |-i α (“$\\alpha$ es derivado de KB por i”)\n",
    "\n",
    "Las oraciones son configuraciones físicas del agente, y el razonamiento es un proceso de construcción de nuevas configuraciones físicas a partir de las antiguas. El razonamiento lógico debe asegurar que las nuevas configuraciones representen aspectos del mundo que realmente se derivan de los aspectos que representan las configuraciones antiguas.\n",
    "\n",
    "La primera forma que vamos a estudiar para representar estas configuraciones es por medio de **lógica proposicional**. La otra semana vamos a ver otro tipo de logica llamada \"logica de primer orden\"."
   ]
  }
 ],
 "metadata": {
  "kernelspec": {
   "display_name": "Python 3 (ipykernel)",
   "language": "python",
   "name": "python3"
  },
  "language_info": {
   "codemirror_mode": {
    "name": "ipython",
    "version": 3
   },
   "file_extension": ".py",
   "mimetype": "text/x-python",
   "name": "python",
   "nbconvert_exporter": "python",
   "pygments_lexer": "ipython3",
   "version": "3.7.9"
  }
 },
 "nbformat": 4,
 "nbformat_minor": 5
}
